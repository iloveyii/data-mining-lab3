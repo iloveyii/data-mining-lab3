{
 "cells": [
  {
   "cell_type": "code",
   "execution_count": 1,
   "metadata": {},
   "outputs": [],
   "source": [
    "# task 2 - SVM"
   ]
  },
  {
   "cell_type": "code",
   "execution_count": 2,
   "metadata": {},
   "outputs": [],
   "source": [
    "%%bash\n",
    "# pip3 install tensorflow # please uncomment for first time\n",
    "# pip3 install keras\n",
    "# pip3 install seaborn"
   ]
  },
  {
   "cell_type": "code",
   "execution_count": 35,
   "metadata": {},
   "outputs": [],
   "source": [
    "# Import the needed packages\n",
    "import tensorflow as tf\n",
    "import matplotlib.pyplot as plt\n",
    "import seaborn as sns\n",
    "import numpy as np\n",
    "import pandas as pd\n",
    "\n",
    "\n",
    "# For CNN layers and model\n",
    "from keras.models import Sequential\n",
    "from keras.layers import Dense, Conv2D, Dropout, Flatten, MaxPooling2D\n",
    "\n",
    "# For SVC\n",
    "from sklearn.svm import SVC\n",
    "\n",
    "\n",
    "# dont show warnings\n",
    "import warnings\n",
    "warnings.filterwarnings(\"ignore\")\n",
    "warnings.simplefilter(\"ignore\")\n",
    "\n",
    "\n",
    "%matplotlib inline"
   ]
  },
  {
   "cell_type": "code",
   "execution_count": 4,
   "metadata": {},
   "outputs": [],
   "source": [
    "# declare glabal variables\n",
    "(x_train, y_train, x_test, y_test) = [0 ,0 ,0 , 0]\n",
    "model = False\n"
   ]
  },
  {
   "cell_type": "code",
   "execution_count": 5,
   "metadata": {},
   "outputs": [],
   "source": [
    "def load_data() :\n",
    "    # Get mnist data set and split to train and test\n",
    "    global x_train, y_train, x_test, y_test\n",
    "    (x_train, y_train), (x_test, y_test) = tf.keras.datasets.mnist.load_data()\n",
    "    \n",
    "    print(type(x_train))\n",
    "    "
   ]
  },
  {
   "cell_type": "code",
   "execution_count": null,
   "metadata": {},
   "outputs": [],
   "source": []
  },
  {
   "cell_type": "code",
   "execution_count": 6,
   "metadata": {},
   "outputs": [],
   "source": [
    "def pre_process_data() :\n",
    "    # Reshape the datasets from 3 dim to 4 dim - required\n",
    "    global x_train, y_train, x_test, y_test\n",
    "\n",
    "    # x_train = x_train.reshape(x_train.shape[0], x_train.shape[1], x_train.shape[2], 1)\n",
    "    # x_test = x_test.reshape(x_test.shape[0], x_test.shape[1], x_test.shape[2], 1)\n",
    "    "
   ]
  },
  {
   "cell_type": "code",
   "execution_count": 7,
   "metadata": {},
   "outputs": [],
   "source": [
    "def normalize_data() :\n",
    "    # Convert to float\n",
    "    global x_train, y_train, x_test, y_test\n",
    "\n",
    "    x_train = x_train.astype('float32')\n",
    "    x_test = x_test.astype('float32')\n",
    "\n",
    "    # Normalize the RGB codes - Divide by 255\n",
    "    x_train /= 255\n",
    "    x_test /= 255\n",
    "    x_train.shape\n",
    "    "
   ]
  },
  {
   "cell_type": "code",
   "execution_count": null,
   "metadata": {},
   "outputs": [],
   "source": []
  },
  {
   "cell_type": "code",
   "execution_count": 12,
   "metadata": {},
   "outputs": [],
   "source": [
    "def visualaize_train_data() :\n",
    "    global y_train\n",
    "    x = y_train.reshape(-1,1)\n",
    "    df = pd.DataFrame.from_records(x)\n",
    "    df.columns = [ 'label']\n",
    "    # print(df['label'].value_counts()) # Frequency distribution\n",
    "    sns.countplot(df['label'])\n",
    "    "
   ]
  },
  {
   "cell_type": "code",
   "execution_count": 13,
   "metadata": {},
   "outputs": [
    {
     "name": "stdout",
     "output_type": "stream",
     "text": [
      "<class 'numpy.ndarray'>\n",
      "(60000, 28, 28)\n"
     ]
    },
    {
     "data": {
      "image/png": "[encoded data removed]",
      "text/plain": [
       "<Figure size 432x288 with 1 Axes>"
      ]
     },
     "metadata": {
      "needs_background": "light"
     },
     "output_type": "display_data"
    }
   ],
   "source": [
    "# RUN \n",
    "\n",
    "# 1 - Load Data\n",
    "load_data()\n",
    "\n",
    "# 2 - Preprocess data\n",
    "pre_process_data()\n",
    "\n",
    "# 3 - Normalize data\n",
    "normalize_data()\n",
    "\n",
    "# 4 - Visualize data\n",
    "visualaize_train_data()\n",
    "\n",
    "\n",
    "# 4 - create model\n",
    "# create_model()\n",
    "\n",
    "# 5 - train model with x_train, y_train\n",
    "# train_model()\n",
    "\n",
    "# 6 - evaluate model\n",
    "# evaluate_model()\n",
    "\n",
    "\n",
    "print(x_train.shape)\n",
    "\n"
   ]
  },
  {
   "cell_type": "code",
   "execution_count": 21,
   "metadata": {},
   "outputs": [],
   "source": [
    "# linear model\n",
    "\n",
    "model_linear = SVC(kernel='linear')\n",
    "model_linear.fit(x_train.reshape(60000, 784), y_train)\n",
    "\n",
    "# predict using x_test\n",
    "y_pred = model_linear.predict(x_test.reshape(10000, 784))"
   ]
  },
  {
   "cell_type": "code",
   "execution_count": 25,
   "metadata": {},
   "outputs": [
    {
     "data": {
      "text/plain": [
       "array([[0., 0., 0., ..., 0., 0., 0.],\n",
       "       [0., 0., 0., ..., 0., 0., 0.],\n",
       "       [0., 0., 0., ..., 0., 0., 0.],\n",
       "       ...,\n",
       "       [0., 0., 0., ..., 0., 0., 0.],\n",
       "       [0., 0., 0., ..., 0., 0., 0.],\n",
       "       [0., 0., 0., ..., 0., 0., 0.]], dtype=float32)"
      ]
     },
     "execution_count": 25,
     "metadata": {},
     "output_type": "execute_result"
    }
   ],
   "source": [
    "x_test.reshape(10000, 784)"
   ]
  },
  {
   "cell_type": "code",
   "execution_count": 34,
   "metadata": {},
   "outputs": [
    {
     "name": "stdout",
     "output_type": "stream",
     "text": [
      "Accuracy: 0.9404 Percentage: 94.04\n",
      "Confusion matrix:\n",
      "[[ 957    0    4    1    1    6    9    1    0    1]\n",
      " [   0 1122    3    2    0    1    2    1    4    0]\n",
      " [   8    6  967   11    3    3    7    8   17    2]\n",
      " [   4    3   16  947    1   16    0    9   12    2]\n",
      " [   1    1   10    1  942    2    4    2    3   16]\n",
      " [  10    4    3   36    6  803   13    1   14    2]\n",
      " [   9    2   13    1    5   16  910    1    1    0]\n",
      " [   1    8   21   10    8    1    0  957    3   19]\n",
      " [   8    4    6   25    7   26    6    7  877    8]\n",
      " [   7    7    2   11   33    4    0   18    5  922]]\n"
     ]
    }
   ],
   "source": [
    "from sklearn import metrics\n",
    "from sklearn.metrics import confusion_matrix\n",
    "# accuracy\n",
    "accuracy = metrics.accuracy_score(y_true=y_test, y_pred=y_pred)\n",
    "print(\"Accuracy:\", accuracy, 'Percentage:' , accuracy * 100)\n",
    "\n",
    "# cm\n",
    "print('Confusion matrix:')\n",
    "print(metrics.confusion_matrix(y_true=y_test, y_pred=y_pred))"
   ]
  },
  {
   "cell_type": "code",
   "execution_count": null,
   "metadata": {},
   "outputs": [],
   "source": []
  },
  {
   "cell_type": "code",
   "execution_count": null,
   "metadata": {},
   "outputs": [],
   "source": []
  }
 ],
 "metadata": {
  "kernelspec": {
   "display_name": "Python 3",
   "language": "python",
   "name": "python3"
  },
  "language_info": {
   "codemirror_mode": {
    "name": "ipython",
    "version": 3
   },
   "file_extension": ".py",
   "mimetype": "text/x-python",
   "name": "python",
   "nbconvert_exporter": "python",
   "pygments_lexer": "ipython3",
   "version": "3.6.7"
  }
 },
 "nbformat": 4,
 "nbformat_minor": 2
}
